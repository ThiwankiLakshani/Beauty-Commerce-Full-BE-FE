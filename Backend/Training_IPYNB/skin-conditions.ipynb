{
 "metadata": {
  "kernelspec": {
   "language": "python",
   "display_name": "Python 3",
   "name": "python3"
  },
  "language_info": {
   "name": "python",
   "version": "3.11.13",
   "mimetype": "text/x-python",
   "codemirror_mode": {
    "name": "ipython",
    "version": 3
   },
   "pygments_lexer": "ipython3",
   "nbconvert_exporter": "python",
   "file_extension": ".py"
  },
  "kaggle": {
   "accelerator": "gpu",
   "dataSources": [
    {
     "sourceId": 9540389,
     "sourceType": "datasetVersion",
     "datasetId": 5811619
    },
    {
     "sourceId": 12947765,
     "sourceType": "datasetVersion",
     "datasetId": 8193792
    }
   ],
   "dockerImageVersionId": 31090,
   "isInternetEnabled": true,
   "language": "python",
   "sourceType": "notebook",
   "isGpuEnabled": true
  }
 },
 "nbformat_minor": 4,
 "nbformat": 4,
 "cells": [
  {
   "cell_type": "code",
   "source": "# === cell 1: imports & paths ===\nimport os, sys, json, math, glob, random\nimport pandas as pd\nimport numpy as np\nfrom PIL import Image\nfrom pathlib import Path\n\nimport torch\nfrom torch import nn\nfrom torch.utils.data import Dataset, DataLoader\nfrom torchvision import transforms, models\n\nfrom sklearn.metrics import f1_score, average_precision_score, roc_auc_score\nfrom sklearn.model_selection import train_test_split\n\nCSV_PATH = Path(\"/kaggle/input/annonations/annotations_fitzpatrick17k.csv\")\nIMG_ROOT = Path(\"/kaggle/input/fitzpatrick17k-original/finalfitz17k\")\n\nDEVICE = \"cuda\" if torch.cuda.is_available() else \"cpu\"\nSEED = 42\nrandom.seed(SEED); np.random.seed(SEED); torch.manual_seed(SEED)\n",
   "metadata": {
    "_uuid": "8f2839f25d086af736a60e9eeb907d3b93b6e0e5",
    "_cell_guid": "b1076dfc-b9ad-4769-8c92-a6c4dae69d19",
    "trusted": true,
    "execution": {
     "iopub.status.busy": "2025-09-03T10:38:21.397249Z",
     "iopub.execute_input": "2025-09-03T10:38:21.397513Z",
     "iopub.status.idle": "2025-09-03T10:38:29.405633Z",
     "shell.execute_reply.started": "2025-09-03T10:38:21.397491Z",
     "shell.execute_reply": "2025-09-03T10:38:29.405041Z"
    }
   },
   "outputs": [
    {
     "execution_count": 1,
     "output_type": "execute_result",
     "data": {
      "text/plain": "<torch._C.Generator at 0x7d1755cea0b0>"
     },
     "metadata": {}
    }
   ],
   "execution_count": 1
  },
  {
   "cell_type": "code",
   "source": "# === cell 2: read CSV & detect label columns ===\ndf = pd.read_csv(CSV_PATH)\n\n# Clean up stray index column if present\nif \"Unnamed: 0\" in df.columns:\n    df = df.drop(columns=[\"Unnamed: 0\"])\n\n# Image identifier column\nassert \"ImageID\" in df.columns, \"Expected column 'ImageID' in the CSV.\"\n\n# Detect 0/1 label columns automatically\ndef is_binary_col(s: pd.Series) -> bool:\n    vals = pd.Series(s.dropna().unique())\n    try:\n        vals = vals.astype(int)\n    except:\n        vals = vals.astype(str)\n    return set(vals.astype(str)) <= set([\"0\",\"1\"])\n\nlabel_cols = [c for c in df.columns if c != \"ImageID\" and is_binary_col(df[c])]\nassert len(label_cols) > 0, \"No binary label columns detected!\"\n\nprint(f\"Detected {len(label_cols)} concern labels.\")\nprint(label_cols[:15], \" ...\")\n\n# Convert labels to int\ndf[label_cols] = df[label_cols].apply(pd.to_numeric, errors='coerce').fillna(0).astype(int)\n",
   "metadata": {
    "trusted": true,
    "execution": {
     "iopub.status.busy": "2025-09-03T10:38:29.406819Z",
     "iopub.execute_input": "2025-09-03T10:38:29.407155Z",
     "iopub.status.idle": "2025-09-03T10:38:29.498251Z",
     "shell.execute_reply.started": "2025-09-03T10:38:29.407137Z",
     "shell.execute_reply": "2025-09-03T10:38:29.497571Z"
    }
   },
   "outputs": [
    {
     "name": "stdout",
     "text": "Detected 49 concern labels.\n['Vesicle', 'Papule', 'Macule', 'Plaque', 'Abscess', 'Pustule', 'Bulla', 'Patch', 'Nodule', 'Ulcer', 'Crust', 'Erosion', 'Excoriation', 'Atrophy', 'Exudate']  ...\n",
     "output_type": "stream"
    }
   ],
   "execution_count": 2
  },
  {
   "cell_type": "code",
   "source": "# === cell 3: index all images under IMG_ROOT ===\n# Build a map from basename (without dirs) to full path\nall_img_paths = []\nfor ext in (\"*.jpg\",\"*.jpeg\",\"*.png\",\"*.bmp\",\"*.webp\"):\n    all_img_paths += list(IMG_ROOT.rglob(ext))\n\npath_by_name = {p.name: p for p in all_img_paths}\nprint(f\"Indexed {len(path_by_name)} files under {IMG_ROOT}.\")\n\n# Attach full paths into df (drop rows we cannot find)\ndf[\"img_path\"] = df[\"ImageID\"].map(lambda x: path_by_name.get(str(x), None))\nmissing = df[\"img_path\"].isna().sum()\nif missing > 0:\n    print(f\"WARNING: {missing} rows have missing image files. Dropping them.\")\n    df = df.dropna(subset=[\"img_path\"]).reset_index(drop=True)\n\nlen(df), df.head(2)\n",
   "metadata": {
    "trusted": true,
    "execution": {
     "iopub.status.busy": "2025-09-03T10:38:29.498996Z",
     "iopub.execute_input": "2025-09-03T10:38:29.499185Z",
     "iopub.status.idle": "2025-09-03T10:38:58.968568Z",
     "shell.execute_reply.started": "2025-09-03T10:38:29.499170Z",
     "shell.execute_reply": "2025-09-03T10:38:58.967817Z"
    }
   },
   "outputs": [
    {
     "name": "stdout",
     "text": "Indexed 16574 files under /kaggle/input/fitzpatrick17k-original/finalfitz17k.\nWARNING: 2 rows have missing image files. Dropping them.\n",
     "output_type": "stream"
    },
    {
     "execution_count": 3,
     "output_type": "execute_result",
     "data": {
      "text/plain": "(3688,\n                                 ImageID  Vesicle  Papule  Macule  Plaque  \\\n 0  eb0cbb277ba6b206c5fafc66ab8c46f9.jpg        0       0       0       0   \n 1  bb3d08781eb23890a9909201deed8c85.jpg        0       0       0       1   \n \n    Abscess  Pustule  Bulla  Patch  Nodule  ...  Poikiloderma  Salmon  Wheal  \\\n 0        0        0      0      0       1  ...             0       0      0   \n 1        0        0      0      0       0  ...             0       0      0   \n \n    Acuminate  Burrow  Gray  Pigmented  Cyst  Do not consider this image  \\\n 0          0       0     0          0     0                           0   \n 1          0       0     0          0     0                           0   \n \n                                             img_path  \n 0  /kaggle/input/fitzpatrick17k-original/finalfit...  \n 1  /kaggle/input/fitzpatrick17k-original/finalfit...  \n \n [2 rows x 51 columns])"
     },
     "metadata": {}
    }
   ],
   "execution_count": 3
  },
  {
   "cell_type": "code",
   "source": "# === cell 4: split train/val ===\nX = df[\"img_path\"].astype(str).values\nY = df[label_cols].values\n\n# Try iterative multilabel split; otherwise fallback to random\ntry:\n    from iterstrat.ml_stratifiers import MultilabelStratifiedKFold\n    mskf = MultilabelStratifiedKFold(n_splits=5, shuffle=True, random_state=SEED)\n    train_idx, val_idx = next(mskf.split(X, Y))\nexcept Exception:\n    print(\"iterstrat not available; using random split.\")\n    train_idx, val_idx = train_test_split(\n        np.arange(len(X)),\n        test_size=0.2,\n        random_state=SEED,\n        shuffle=True\n    )\n\nX_train, X_val = X[train_idx], X[val_idx]\nY_train, Y_val = Y[train_idx], Y[val_idx]\nlen(X_train), len(X_val)\n",
   "metadata": {
    "trusted": true,
    "execution": {
     "iopub.status.busy": "2025-09-03T10:38:58.969984Z",
     "iopub.execute_input": "2025-09-03T10:38:58.970214Z",
     "iopub.status.idle": "2025-09-03T10:38:58.987843Z",
     "shell.execute_reply.started": "2025-09-03T10:38:58.970195Z",
     "shell.execute_reply": "2025-09-03T10:38:58.987255Z"
    }
   },
   "outputs": [
    {
     "name": "stdout",
     "text": "iterstrat not available; using random split.\n",
     "output_type": "stream"
    },
    {
     "execution_count": 4,
     "output_type": "execute_result",
     "data": {
      "text/plain": "(2950, 738)"
     },
     "metadata": {}
    }
   ],
   "execution_count": 4
  },
  {
   "cell_type": "code",
   "source": "# === cell 5: dataset & transforms ===\nIMG_SIZE = 384\n\ntrain_tfms = transforms.Compose([\n    transforms.Resize((IMG_SIZE, IMG_SIZE)),\n    transforms.RandomHorizontalFlip(p=0.5),\n    transforms.RandomApply([transforms.ColorJitter(brightness=0.15, contrast=0.15, saturation=0.1, hue=0.03)], p=0.5),\n    transforms.ToTensor(),\n    transforms.Normalize(mean=[0.485,0.456,0.406], std=[0.229,0.224,0.225]),\n])\n\nval_tfms = transforms.Compose([\n    transforms.Resize((IMG_SIZE, IMG_SIZE)),\n    transforms.ToTensor(),\n    transforms.Normalize(mean=[0.485,0.456,0.406], std=[0.229,0.224,0.225]),\n])\n\nclass FitzDataset(Dataset):\n    def __init__(self, paths, labels, tfms):\n        self.paths = paths\n        self.labels = labels\n        self.tfms = tfms\n    def __len__(self):\n        return len(self.paths)\n    def __getitem__(self, i):\n        p = self.paths[i]\n        y = torch.tensor(self.labels[i], dtype=torch.float32)\n        with Image.open(p).convert(\"RGB\") as im:\n            im = self.tfms(im)\n        return im, y, p\n\ntrain_ds = FitzDataset(X_train, Y_train, train_tfms)\nval_ds   = FitzDataset(X_val,   Y_val,   val_tfms)\n\ntrain_dl = DataLoader(train_ds, batch_size=16, shuffle=True, num_workers=2, pin_memory=True)\nval_dl   = DataLoader(val_ds,   batch_size=16, shuffle=False, num_workers=2, pin_memory=True)\n\nn_classes = len(label_cols)\n",
   "metadata": {
    "trusted": true,
    "execution": {
     "iopub.status.busy": "2025-09-03T10:38:58.988726Z",
     "iopub.execute_input": "2025-09-03T10:38:58.989107Z",
     "iopub.status.idle": "2025-09-03T10:38:59.000682Z",
     "shell.execute_reply.started": "2025-09-03T10:38:58.989078Z",
     "shell.execute_reply": "2025-09-03T10:38:59.000072Z"
    }
   },
   "outputs": [],
   "execution_count": 5
  },
  {
   "cell_type": "code",
   "source": "# === cell 6: model, loss with class weights ===\nmodel = models.resnet50(weights=models.ResNet50_Weights.IMAGENET1K_V2)\nin_feats = model.fc.in_features\nmodel.fc = nn.Linear(in_feats, n_classes)\nmodel = model.to(DEVICE)\n\n# pos_weight = (N - P) / P per class\nP = Y_train.sum(axis=0) + 1e-6\nN = len(Y_train) - P\npos_weight = torch.tensor((N / P), dtype=torch.float32, device=DEVICE)\n\ncriterion = nn.BCEWithLogitsLoss(pos_weight=pos_weight)\noptimizer = torch.optim.AdamW(model.parameters(), lr=2e-4, weight_decay=1e-4)\nscheduler = torch.optim.lr_scheduler.CosineAnnealingLR(optimizer, T_max=5)\n",
   "metadata": {
    "trusted": true,
    "execution": {
     "iopub.status.busy": "2025-09-03T10:38:59.001287Z",
     "iopub.execute_input": "2025-09-03T10:38:59.001530Z",
     "iopub.status.idle": "2025-09-03T10:39:00.244614Z",
     "shell.execute_reply.started": "2025-09-03T10:38:59.001512Z",
     "shell.execute_reply": "2025-09-03T10:39:00.244032Z"
    }
   },
   "outputs": [
    {
     "name": "stderr",
     "text": "Downloading: \"https://download.pytorch.org/models/resnet50-11ad3fa6.pth\" to /root/.cache/torch/hub/checkpoints/resnet50-11ad3fa6.pth\n100%|██████████| 97.8M/97.8M [00:00<00:00, 230MB/s]\n",
     "output_type": "stream"
    }
   ],
   "execution_count": 6
  },
  {
   "cell_type": "code",
   "source": [
    "# === cell 7: training loop ===\n",
    "def sigmoid(x): return 1/(1+np.exp(-x))\n",
    "\n",
    "def evaluate(model, loader, thresh=0.3):\n",
    "    model.eval()\n",
    "    all_logits, all_targets = [], []\n",
    "    with torch.no_grad():\n",
    "        for imgs, ys, _ in loader:\n",
    "            imgs = imgs.to(DEVICE)\n",
    "            ys = ys.to(DEVICE)\n",
    "            logits = model(imgs)\n",
    "            all_logits.append(logits.detach().cpu().numpy())\n",
    "            all_targets.append(ys.detach().cpu().numpy())\n",
    "    logits = np.concatenate(all_logits)\n",
    "    targets = np.concatenate(all_targets)\n",
    "    probs = sigmoid(logits)\n",
    "\n",
    "    # Macro F1 at a single threshold\n",
    "    preds = (probs >= thresh).astype(int)\n",
    "    macro_f1 = f1_score(targets, preds, average=\"macro\", zero_division=0)\n",
    "\n",
    "    # Macro AUROC / mAP (handle classes with only one label carefully)\n",
    "    aurocs, aps = [], []\n",
    "    for c in range(targets.shape[1]):\n",
    "        if len(np.unique(targets[:,c])) > 1:\n",
    "            try:\n",
    "                aurocs.append(roc_auc_score(targets[:,c], probs[:,c]))\n",
    "            except:\n",
    "                pass\n",
    "            try:\n",
    "                aps.append(average_precision_score(targets[:,c], probs[:,c]))\n",
    "            except:\n",
    "                pass\n",
    "    macro_auroc = float(np.mean(aurocs)) if aurocs else 0.0\n",
    "    macro_map   = float(np.mean(aps)) if aps else 0.0\n",
    "\n",
    "    return {\n",
    "        \"macro_f1@{:.2f}\".format(thresh): macro_f1,\n",
    "        \"macro_auroc\": macro_auroc,\n",
    "        \"macro_map\": macro_map\n",
    "    }\n",
    "\n",
    "EPOCHS = 200\n",
    "best_val = -1\n",
    "for epoch in range(1, EPOCHS+1):\n",
    "    model.train()\n",
    "    running_loss = 0.0\n",
    "    for imgs, ys, _ in train_dl:\n",
    "        imgs = imgs.to(DEVICE)\n",
    "        ys = ys.to(DEVICE)\n",
    "        optimizer.zero_grad()\n",
    "        logits = model(imgs)\n",
    "        loss = criterion(logits, ys)\n",
    "        loss.backward()\n",
    "        optimizer.step()\n",
    "        running_loss += loss.item() * imgs.size(0)\n",
    "    scheduler.step()\n",
    "\n",
    "    val_metrics = evaluate(model, val_dl, thresh=0.3)\n",
    "    val_key = \"macro_f1@0.30\"\n",
    "    val_f1 = val_metrics[val_key]\n",
    "    print(f\"Epoch {epoch:02d} | loss {running_loss/len(train_ds):.4f} | \"\n",
    "          f\"F1 {val_f1:.3f} | AUROC {val_metrics['macro_auroc']:.3f} | mAP {val_metrics['macro_map']:.3f}\")\n",
    "\n",
    "    if val_f1 > best_val:\n",
    "        best_val = val_f1\n",
    "        torch.save({\"state_dict\": model.state_dict(),\n",
    "                    \"label_cols\": label_cols}, \"best_model.pth\")\n",
    "        print(\"  ✓ saved best_model.pth\")\n"
   ],
   "metadata": {
    "trusted": true,
    "execution": {
     "iopub.status.busy": "2025-09-03T10:39:00.245630Z",
     "iopub.execute_input": "2025-09-03T10:39:00.245877Z",
     "iopub.status.idle": "2025-09-03T13:18:46.756036Z",
     "shell.execute_reply.started": "2025-09-03T10:39:00.245860Z",
     "shell.execute_reply": "2025-09-03T13:18:46.755156Z"
    }
   },
   "outputs": [
    {
     "name": "stdout",
     "text": "Epoch 01 | loss 1.3196 | F1 0.092 | AUROC 0.584 | mAP 0.107\n  ✓ saved best_model.pth\nEpoch 02 | loss 1.2981 | F1 0.091 | AUROC 0.566 | mAP 0.094\nEpoch 03 | loss 1.2286 | F1 0.094 | AUROC 0.671 | mAP 0.146\n  ✓ saved best_model.pth\nEpoch 04 | loss 1.1307 | F1 0.100 | AUROC 0.730 | mAP 0.167\n  ✓ saved best_model.pth\nEpoch 05 | loss 1.0195 | F1 0.103 | AUROC 0.725 | mAP 0.181\n  ✓ saved best_model.pth\nEpoch 06 | loss 0.9703 | F1 0.103 | AUROC 0.727 | mAP 0.182\nEpoch 07 | loss 0.9581 | F1 0.108 | AUROC 0.745 | mAP 0.191\n  ✓ saved best_model.pth\nEpoch 08 | loss 0.9390 | F1 0.119 | AUROC 0.729 | mAP 0.177\n  ✓ saved best_model.pth\nEpoch 09 | loss 0.8901 | F1 0.120 | AUROC 0.766 | mAP 0.207\n  ✓ saved best_model.pth\nEpoch 10 | loss 0.8337 | F1 0.125 | AUROC 0.776 | mAP 0.210\n  ✓ saved best_model.pth\nEpoch 11 | loss 0.6925 | F1 0.141 | AUROC 0.781 | mAP 0.208\n  ✓ saved best_model.pth\nEpoch 12 | loss 0.5826 | F1 0.162 | AUROC 0.828 | mAP 0.249\n  ✓ saved best_model.pth\nEpoch 13 | loss 0.5133 | F1 0.148 | AUROC 0.799 | mAP 0.248\nEpoch 14 | loss 0.4902 | F1 0.176 | AUROC 0.834 | mAP 0.270\n  ✓ saved best_model.pth\nEpoch 15 | loss 0.3925 | F1 0.187 | AUROC 0.838 | mAP 0.278\n  ✓ saved best_model.pth\nEpoch 16 | loss 0.3689 | F1 0.186 | AUROC 0.836 | mAP 0.272\nEpoch 17 | loss 0.3611 | F1 0.184 | AUROC 0.841 | mAP 0.279\nEpoch 18 | loss 0.3511 | F1 0.188 | AUROC 0.839 | mAP 0.277\n  ✓ saved best_model.pth\nEpoch 19 | loss 0.3569 | F1 0.184 | AUROC 0.822 | mAP 0.248\nEpoch 20 | loss 0.3631 | F1 0.187 | AUROC 0.813 | mAP 0.269\nEpoch 21 | loss 0.3729 | F1 0.186 | AUROC 0.815 | mAP 0.264\nEpoch 22 | loss 0.3134 | F1 0.196 | AUROC 0.835 | mAP 0.270\n  ✓ saved best_model.pth\nEpoch 23 | loss 0.2781 | F1 0.223 | AUROC 0.834 | mAP 0.294\n  ✓ saved best_model.pth\nEpoch 24 | loss 0.2224 | F1 0.229 | AUROC 0.843 | mAP 0.314\n  ✓ saved best_model.pth\nEpoch 25 | loss 0.1824 | F1 0.243 | AUROC 0.848 | mAP 0.314\n  ✓ saved best_model.pth\nEpoch 26 | loss 0.1745 | F1 0.237 | AUROC 0.848 | mAP 0.314\nEpoch 27 | loss 0.1731 | F1 0.246 | AUROC 0.846 | mAP 0.317\n  ✓ saved best_model.pth\nEpoch 28 | loss 0.1842 | F1 0.230 | AUROC 0.831 | mAP 0.305\nEpoch 29 | loss 0.1841 | F1 0.233 | AUROC 0.835 | mAP 0.313\nEpoch 30 | loss 0.2441 | F1 0.217 | AUROC 0.805 | mAP 0.301\nEpoch 31 | loss 0.4109 | F1 0.176 | AUROC 0.792 | mAP 0.264\nEpoch 32 | loss 0.3779 | F1 0.207 | AUROC 0.849 | mAP 0.311\nEpoch 33 | loss 0.2175 | F1 0.248 | AUROC 0.853 | mAP 0.316\n  ✓ saved best_model.pth\nEpoch 34 | loss 0.1707 | F1 0.240 | AUROC 0.854 | mAP 0.335\nEpoch 35 | loss 0.1456 | F1 0.258 | AUROC 0.852 | mAP 0.340\n  ✓ saved best_model.pth\nEpoch 36 | loss 0.1410 | F1 0.278 | AUROC 0.855 | mAP 0.330\n  ✓ saved best_model.pth\nEpoch 37 | loss 0.1379 | F1 0.278 | AUROC 0.853 | mAP 0.341\nEpoch 38 | loss 0.1347 | F1 0.261 | AUROC 0.854 | mAP 0.337\nEpoch 39 | loss 0.1455 | F1 0.257 | AUROC 0.849 | mAP 0.337\nEpoch 40 | loss 0.1493 | F1 0.256 | AUROC 0.842 | mAP 0.314\nEpoch 41 | loss 0.3601 | F1 0.188 | AUROC 0.802 | mAP 0.264\nEpoch 42 | loss 0.2968 | F1 0.222 | AUROC 0.828 | mAP 0.294\nEpoch 43 | loss 0.2500 | F1 0.225 | AUROC 0.834 | mAP 0.307\nEpoch 44 | loss 0.1563 | F1 0.247 | AUROC 0.841 | mAP 0.322\nEpoch 45 | loss 0.1341 | F1 0.249 | AUROC 0.844 | mAP 0.326\nEpoch 46 | loss 0.1287 | F1 0.252 | AUROC 0.843 | mAP 0.325\nEpoch 47 | loss 0.1287 | F1 0.261 | AUROC 0.844 | mAP 0.330\nEpoch 48 | loss 0.1245 | F1 0.265 | AUROC 0.843 | mAP 0.331\nEpoch 49 | loss 0.1155 | F1 0.260 | AUROC 0.845 | mAP 0.324\nEpoch 50 | loss 0.1264 | F1 0.239 | AUROC 0.835 | mAP 0.300\nEpoch 51 | loss 0.1692 | F1 0.222 | AUROC 0.824 | mAP 0.288\nEpoch 52 | loss 0.1723 | F1 0.243 | AUROC 0.832 | mAP 0.318\nEpoch 53 | loss 0.1179 | F1 0.274 | AUROC 0.849 | mAP 0.329\nEpoch 54 | loss 0.0879 | F1 0.286 | AUROC 0.847 | mAP 0.341\n  ✓ saved best_model.pth\nEpoch 55 | loss 0.0746 | F1 0.278 | AUROC 0.846 | mAP 0.343\nEpoch 56 | loss 0.0710 | F1 0.278 | AUROC 0.848 | mAP 0.344\nEpoch 57 | loss 0.0702 | F1 0.283 | AUROC 0.848 | mAP 0.344\nEpoch 58 | loss 0.0696 | F1 0.281 | AUROC 0.843 | mAP 0.336\nEpoch 59 | loss 0.0976 | F1 0.254 | AUROC 0.844 | mAP 0.316\nEpoch 60 | loss 0.2791 | F1 0.204 | AUROC 0.815 | mAP 0.266\nEpoch 61 | loss 0.3240 | F1 0.185 | AUROC 0.804 | mAP 0.269\nEpoch 62 | loss 0.1944 | F1 0.235 | AUROC 0.842 | mAP 0.326\nEpoch 63 | loss 0.1256 | F1 0.252 | AUROC 0.850 | mAP 0.339\nEpoch 64 | loss 0.0988 | F1 0.259 | AUROC 0.853 | mAP 0.348\nEpoch 65 | loss 0.0842 | F1 0.267 | AUROC 0.853 | mAP 0.348\nEpoch 66 | loss 0.0792 | F1 0.261 | AUROC 0.851 | mAP 0.343\nEpoch 67 | loss 0.0760 | F1 0.273 | AUROC 0.852 | mAP 0.347\nEpoch 68 | loss 0.0757 | F1 0.276 | AUROC 0.852 | mAP 0.347\nEpoch 69 | loss 0.0754 | F1 0.281 | AUROC 0.851 | mAP 0.334\nEpoch 70 | loss 0.0803 | F1 0.268 | AUROC 0.843 | mAP 0.335\nEpoch 71 | loss 0.0861 | F1 0.265 | AUROC 0.818 | mAP 0.295\nEpoch 72 | loss 0.2641 | F1 0.202 | AUROC 0.811 | mAP 0.271\nEpoch 73 | loss 0.1533 | F1 0.253 | AUROC 0.843 | mAP 0.315\nEpoch 74 | loss 0.0978 | F1 0.271 | AUROC 0.846 | mAP 0.318\nEpoch 75 | loss 0.0757 | F1 0.273 | AUROC 0.849 | mAP 0.331\nEpoch 76 | loss 0.0723 | F1 0.271 | AUROC 0.845 | mAP 0.327\nEpoch 77 | loss 0.0716 | F1 0.276 | AUROC 0.850 | mAP 0.329\nEpoch 78 | loss 0.0673 | F1 0.289 | AUROC 0.853 | mAP 0.340\n  ✓ saved best_model.pth\nEpoch 79 | loss 0.0623 | F1 0.295 | AUROC 0.850 | mAP 0.331\n  ✓ saved best_model.pth\nEpoch 80 | loss 0.0743 | F1 0.260 | AUROC 0.845 | mAP 0.307\nEpoch 81 | loss 0.1376 | F1 0.243 | AUROC 0.837 | mAP 0.293\nEpoch 82 | loss 0.2693 | F1 0.171 | AUROC 0.772 | mAP 0.220\nEpoch 83 | loss 0.1720 | F1 0.266 | AUROC 0.847 | mAP 0.329\nEpoch 84 | loss 0.0908 | F1 0.267 | AUROC 0.844 | mAP 0.327\nEpoch 85 | loss 0.0765 | F1 0.278 | AUROC 0.844 | mAP 0.341\nEpoch 86 | loss 0.0727 | F1 0.271 | AUROC 0.843 | mAP 0.336\nEpoch 87 | loss 0.0710 | F1 0.287 | AUROC 0.845 | mAP 0.338\nEpoch 88 | loss 0.0664 | F1 0.299 | AUROC 0.840 | mAP 0.338\n  ✓ saved best_model.pth\nEpoch 89 | loss 0.0637 | F1 0.285 | AUROC 0.841 | mAP 0.337\nEpoch 90 | loss 0.0644 | F1 0.271 | AUROC 0.834 | mAP 0.332\nEpoch 91 | loss 0.1058 | F1 0.246 | AUROC 0.839 | mAP 0.297\nEpoch 92 | loss 0.0734 | F1 0.249 | AUROC 0.812 | mAP 0.287\nEpoch 93 | loss 0.0568 | F1 0.278 | AUROC 0.838 | mAP 0.328\nEpoch 94 | loss 0.0419 | F1 0.278 | AUROC 0.845 | mAP 0.337\nEpoch 95 | loss 0.0360 | F1 0.289 | AUROC 0.844 | mAP 0.334\nEpoch 96 | loss 0.0318 | F1 0.277 | AUROC 0.844 | mAP 0.332\nEpoch 97 | loss 0.0316 | F1 0.281 | AUROC 0.843 | mAP 0.331\nEpoch 98 | loss 0.0300 | F1 0.276 | AUROC 0.842 | mAP 0.334\nEpoch 99 | loss 0.0294 | F1 0.293 | AUROC 0.838 | mAP 0.336\nEpoch 100 | loss 0.0446 | F1 0.232 | AUROC 0.811 | mAP 0.319\nEpoch 101 | loss 0.1383 | F1 0.215 | AUROC 0.808 | mAP 0.273\nEpoch 102 | loss 0.1360 | F1 0.273 | AUROC 0.844 | mAP 0.305\nEpoch 103 | loss 0.0631 | F1 0.288 | AUROC 0.843 | mAP 0.320\nEpoch 104 | loss 0.0410 | F1 0.296 | AUROC 0.847 | mAP 0.319\nEpoch 105 | loss 0.0336 | F1 0.297 | AUROC 0.847 | mAP 0.320\nEpoch 106 | loss 0.0311 | F1 0.300 | AUROC 0.848 | mAP 0.322\n  ✓ saved best_model.pth\nEpoch 107 | loss 0.0320 | F1 0.294 | AUROC 0.847 | mAP 0.324\nEpoch 108 | loss 0.0295 | F1 0.305 | AUROC 0.849 | mAP 0.333\n  ✓ saved best_model.pth\nEpoch 109 | loss 0.0337 | F1 0.298 | AUROC 0.841 | mAP 0.330\nEpoch 110 | loss 0.0439 | F1 0.276 | AUROC 0.831 | mAP 0.304\nEpoch 111 | loss 0.1239 | F1 0.250 | AUROC 0.838 | mAP 0.292\nEpoch 112 | loss 0.0796 | F1 0.264 | AUROC 0.846 | mAP 0.321\nEpoch 113 | loss 0.0453 | F1 0.277 | AUROC 0.845 | mAP 0.327\nEpoch 114 | loss 0.0308 | F1 0.303 | AUROC 0.845 | mAP 0.340\nEpoch 115 | loss 0.0247 | F1 0.298 | AUROC 0.845 | mAP 0.336\nEpoch 116 | loss 0.0230 | F1 0.301 | AUROC 0.846 | mAP 0.340\nEpoch 117 | loss 0.0231 | F1 0.297 | AUROC 0.845 | mAP 0.339\nEpoch 118 | loss 0.0235 | F1 0.305 | AUROC 0.842 | mAP 0.347\n  ✓ saved best_model.pth\nEpoch 119 | loss 0.0218 | F1 0.304 | AUROC 0.851 | mAP 0.332\nEpoch 120 | loss 0.0235 | F1 0.296 | AUROC 0.839 | mAP 0.324\nEpoch 121 | loss 0.0437 | F1 0.250 | AUROC 0.808 | mAP 0.290\nEpoch 122 | loss 0.0836 | F1 0.245 | AUROC 0.802 | mAP 0.273\nEpoch 123 | loss 0.0495 | F1 0.260 | AUROC 0.820 | mAP 0.307\nEpoch 124 | loss 0.0287 | F1 0.269 | AUROC 0.830 | mAP 0.315\nEpoch 125 | loss 0.0200 | F1 0.275 | AUROC 0.833 | mAP 0.316\nEpoch 126 | loss 0.0176 | F1 0.276 | AUROC 0.833 | mAP 0.317\nEpoch 127 | loss 0.0177 | F1 0.274 | AUROC 0.834 | mAP 0.317\nEpoch 128 | loss 0.0208 | F1 0.281 | AUROC 0.842 | mAP 0.328\nEpoch 129 | loss 0.0174 | F1 0.289 | AUROC 0.840 | mAP 0.327\nEpoch 130 | loss 0.0221 | F1 0.285 | AUROC 0.843 | mAP 0.319\nEpoch 131 | loss 0.0284 | F1 0.248 | AUROC 0.814 | mAP 0.289\nEpoch 132 | loss 0.0892 | F1 0.260 | AUROC 0.814 | mAP 0.311\nEpoch 133 | loss 0.0449 | F1 0.289 | AUROC 0.841 | mAP 0.333\nEpoch 134 | loss 0.0256 | F1 0.286 | AUROC 0.840 | mAP 0.324\nEpoch 135 | loss 0.0177 | F1 0.288 | AUROC 0.843 | mAP 0.330\nEpoch 136 | loss 0.0158 | F1 0.291 | AUROC 0.842 | mAP 0.330\nEpoch 137 | loss 0.0151 | F1 0.289 | AUROC 0.839 | mAP 0.331\nEpoch 138 | loss 0.0147 | F1 0.296 | AUROC 0.842 | mAP 0.335\nEpoch 139 | loss 0.0136 | F1 0.289 | AUROC 0.831 | mAP 0.330\nEpoch 140 | loss 0.0154 | F1 0.284 | AUROC 0.830 | mAP 0.316\nEpoch 141 | loss 0.0199 | F1 0.279 | AUROC 0.830 | mAP 0.331\nEpoch 142 | loss 0.0227 | F1 0.289 | AUROC 0.828 | mAP 0.341\nEpoch 143 | loss 0.0204 | F1 0.279 | AUROC 0.835 | mAP 0.330\nEpoch 144 | loss 0.0160 | F1 0.297 | AUROC 0.842 | mAP 0.336\nEpoch 145 | loss 0.0105 | F1 0.293 | AUROC 0.844 | mAP 0.339\nEpoch 146 | loss 0.0086 | F1 0.295 | AUROC 0.840 | mAP 0.338\nEpoch 147 | loss 0.0085 | F1 0.301 | AUROC 0.843 | mAP 0.337\nEpoch 148 | loss 0.0074 | F1 0.297 | AUROC 0.839 | mAP 0.336\nEpoch 149 | loss 0.0099 | F1 0.296 | AUROC 0.845 | mAP 0.330\nEpoch 150 | loss 0.2619 | F1 0.217 | AUROC 0.801 | mAP 0.253\nEpoch 151 | loss 0.1216 | F1 0.261 | AUROC 0.817 | mAP 0.284\nEpoch 152 | loss 0.0806 | F1 0.251 | AUROC 0.813 | mAP 0.287\nEpoch 153 | loss 0.0350 | F1 0.277 | AUROC 0.822 | mAP 0.298\nEpoch 154 | loss 0.0232 | F1 0.276 | AUROC 0.823 | mAP 0.308\nEpoch 155 | loss 0.0208 | F1 0.279 | AUROC 0.823 | mAP 0.299\nEpoch 156 | loss 0.0177 | F1 0.284 | AUROC 0.822 | mAP 0.298\nEpoch 157 | loss 0.0178 | F1 0.284 | AUROC 0.825 | mAP 0.308\nEpoch 158 | loss 0.0176 | F1 0.265 | AUROC 0.824 | mAP 0.297\nEpoch 159 | loss 0.0267 | F1 0.283 | AUROC 0.820 | mAP 0.297\nEpoch 160 | loss 0.0328 | F1 0.307 | AUROC 0.823 | mAP 0.313\n  ✓ saved best_model.pth\nEpoch 161 | loss 0.0269 | F1 0.294 | AUROC 0.826 | mAP 0.320\nEpoch 162 | loss 0.0178 | F1 0.295 | AUROC 0.826 | mAP 0.315\nEpoch 163 | loss 0.0114 | F1 0.302 | AUROC 0.829 | mAP 0.325\nEpoch 164 | loss 0.0097 | F1 0.306 | AUROC 0.827 | mAP 0.323\nEpoch 165 | loss 0.0078 | F1 0.304 | AUROC 0.828 | mAP 0.324\nEpoch 166 | loss 0.0085 | F1 0.304 | AUROC 0.830 | mAP 0.323\nEpoch 167 | loss 0.0086 | F1 0.309 | AUROC 0.827 | mAP 0.327\n  ✓ saved best_model.pth\nEpoch 168 | loss 0.0067 | F1 0.304 | AUROC 0.826 | mAP 0.326\nEpoch 169 | loss 0.0310 | F1 0.276 | AUROC 0.814 | mAP 0.309\nEpoch 170 | loss 0.1599 | F1 0.246 | AUROC 0.829 | mAP 0.290\nEpoch 171 | loss 0.0557 | F1 0.268 | AUROC 0.827 | mAP 0.297\nEpoch 172 | loss 0.0315 | F1 0.284 | AUROC 0.836 | mAP 0.313\nEpoch 173 | loss 0.0199 | F1 0.293 | AUROC 0.836 | mAP 0.311\nEpoch 174 | loss 0.0122 | F1 0.293 | AUROC 0.834 | mAP 0.321\nEpoch 175 | loss 0.0104 | F1 0.295 | AUROC 0.836 | mAP 0.325\nEpoch 176 | loss 0.0100 | F1 0.297 | AUROC 0.839 | mAP 0.325\nEpoch 177 | loss 0.0097 | F1 0.294 | AUROC 0.835 | mAP 0.325\nEpoch 178 | loss 0.0086 | F1 0.296 | AUROC 0.836 | mAP 0.315\nEpoch 179 | loss 0.0088 | F1 0.281 | AUROC 0.828 | mAP 0.326\nEpoch 180 | loss 0.0095 | F1 0.283 | AUROC 0.827 | mAP 0.311\nEpoch 181 | loss 0.0184 | F1 0.273 | AUROC 0.828 | mAP 0.302\nEpoch 182 | loss 0.0133 | F1 0.282 | AUROC 0.831 | mAP 0.316\nEpoch 183 | loss 0.0090 | F1 0.286 | AUROC 0.828 | mAP 0.313\nEpoch 184 | loss 0.0052 | F1 0.280 | AUROC 0.831 | mAP 0.312\nEpoch 187 | loss 0.0044 | F1 0.302 | AUROC 0.831 | mAP 0.316\nEpoch 188 | loss 0.0038 | F1 0.284 | AUROC 0.830 | mAP 0.314\nEpoch 189 | loss 0.0045 | F1 0.283 | AUROC 0.830 | mAP 0.317\nEpoch 190 | loss 0.0366 | F1 0.247 | AUROC 0.765 | mAP 0.268\nEpoch 191 | loss 0.2237 | F1 0.223 | AUROC 0.783 | mAP 0.253\nEpoch 192 | loss 0.1080 | F1 0.269 | AUROC 0.823 | mAP 0.291\nEpoch 193 | loss 0.0413 | F1 0.268 | AUROC 0.831 | mAP 0.315\nEpoch 194 | loss 0.0272 | F1 0.283 | AUROC 0.829 | mAP 0.324\nEpoch 195 | loss 0.0185 | F1 0.290 | AUROC 0.829 | mAP 0.324\nEpoch 196 | loss 0.0183 | F1 0.288 | AUROC 0.828 | mAP 0.324\nEpoch 197 | loss 0.0178 | F1 0.290 | AUROC 0.832 | mAP 0.329\nEpoch 198 | loss 0.0158 | F1 0.287 | AUROC 0.833 | mAP 0.327\nEpoch 199 | loss 0.0144 | F1 0.306 | AUROC 0.832 | mAP 0.331\nEpoch 200 | loss 0.0135 | F1 0.297 | AUROC 0.836 | mAP 0.326\n",
     "output_type": "stream"
    }
   ],
   "execution_count": 7
  },
  {
   "cell_type": "code",
   "source": "# Extract label names from the checkpoint and save labels.txt\nimport torch\nfrom pathlib import Path\n\nCKPT_PATH = Path(\"/kaggle/working/best_model.pth\")   # adjust if elsewhere\nOUT_PATH  = Path(\"/kaggle/working/labels.txt\")\n\nckpt = torch.load(CKPT_PATH, map_location=\"cpu\")\nlabel_cols = ckpt.get(\"label_cols\", None)\n\nif label_cols is None:\n    raise ValueError(\"Checkpoint does not contain 'label_cols'. Use method A (from CSV) or provide label order manually.\")\n\nOUT_PATH.write_text(\"\\n\".join(label_cols), encoding=\"utf-8\")\nprint(f\"Saved {len(label_cols)} labels to {OUT_PATH}\")\nprint(\"First 10:\", label_cols[:10])\n",
   "metadata": {
    "trusted": true,
    "execution": {
     "iopub.status.busy": "2025-09-03T13:39:18.109103Z",
     "iopub.execute_input": "2025-09-03T13:39:18.109966Z",
     "iopub.status.idle": "2025-09-03T13:39:18.188720Z",
     "shell.execute_reply.started": "2025-09-03T13:39:18.109897Z",
     "shell.execute_reply": "2025-09-03T13:39:18.187964Z"
    }
   },
   "outputs": [
    {
     "name": "stdout",
     "text": "Saved 49 labels to /kaggle/working/labels.txt\nFirst 10: ['Vesicle', 'Papule', 'Macule', 'Plaque', 'Abscess', 'Pustule', 'Bulla', 'Patch', 'Nodule', 'Ulcer']\n",
     "output_type": "stream"
    }
   ],
   "execution_count": 11
  },
  {
   "cell_type": "code",
   "source": [
    "# === cell 8: inference helper ===\n",
    "infer_tfms = val_tfms  # same as validation\n",
    "\n",
    "def load_checkpoint(path=\"best_model.pth\"):\n",
    "    ckpt = torch.load(path, map_location=DEVICE)\n",
    "    lbls = ckpt[\"label_cols\"]\n",
    "    mdl = models.resnet50(weights=None)\n",
    "    mdl.fc = nn.Linear(mdl.fc.in_features, len(lbls))\n",
    "    mdl.load_state_dict(ckpt[\"state_dict\"])\n",
    "    mdl.to(DEVICE).eval()\n",
    "    return mdl, lbls\n",
    "\n",
    "def predict_image(image_path, model, label_names, threshold=0.3, top_k=None):\n",
    "    with Image.open(image_path).convert(\"RGB\") as im:\n",
    "        x = infer_tfms(im).unsqueeze(0).to(DEVICE)\n",
    "    with torch.no_grad():\n",
    "        logits = model(x)\n",
    "        probs = torch.sigmoid(logits)[0].cpu().numpy()\n",
    "\n",
    "    # All concerns with probabilities (sorted)\n",
    "    idx_sorted = np.argsort(-probs)\n",
    "    results = [(label_names[i], float(probs[i])) for i in idx_sorted]\n",
    "\n",
    "    # Binary decisions at threshold\n",
    "    picked = [(label_names[i], float(probs[i])) for i in range(len(label_names)) if probs[i] >= threshold]\n",
    "    picked_sorted = sorted(picked, key=lambda z: -z[1])\n",
    "\n",
    "    # Limit display if top_k set\n",
    "    if top_k is not None:\n",
    "        results = results[:top_k]\n",
    "\n",
    "    return results, picked_sorted\n",
    "\n",
    "# Example:\n",
    "model, names = load_checkpoint(\"best_model.pth\")\n",
    "all_ranked, detected = predict_image(\"/kaggle/input/fitzpatrick17k-original/finalfitz17k/000491af8dd4d739de520e8a68be7134.jpg\",\n",
    "                                      model, names, threshold=0.3)\n",
    "print(\"All concerns (sorted):\")\n",
    "for n,p in all_ranked: print(f\"{n}: {p:.3f}\")\n",
    "print(\"\\nDetected (≥0.30):\")\n",
    "for n,p in detected: print(f\"{n}: {p:.3f}\")\n"
   ],
   "metadata": {
    "trusted": true,
    "execution": {
     "iopub.status.busy": "2025-09-03T13:26:39.069571Z",
     "iopub.execute_input": "2025-09-03T13:26:39.070089Z",
     "iopub.status.idle": "2025-09-03T13:26:39.598280Z",
     "shell.execute_reply.started": "2025-09-03T13:26:39.070065Z",
     "shell.execute_reply": "2025-09-03T13:26:39.597594Z"
    }
   },
   "outputs": [
    {
     "name": "stdout",
     "text": "All concerns (sorted):\nDo not consider this image: 0.881\nBrown(Hyperpigmentation): 0.857\nPlaque: 0.454\nPapule: 0.082\nCrust: 0.055\nErosion: 0.048\nYellow: 0.040\nErythema: 0.011\nScale: 0.008\nExcoriation: 0.003\nPurple: 0.001\nWhite(Hypopigmentation): 0.001\nNodule: 0.001\nBlack: 0.001\nScar: 0.000\nPatch: 0.000\nFriable: 0.000\nPustule: 0.000\nDome-shaped: 0.000\nBulla: 0.000\nExophytic/Fungating: 0.000\nVesicle: 0.000\nUlcer: 0.000\nFissure: 0.000\nExudate: 0.000\nBlue: 0.000\nSclerosis: 0.000\nGray: 0.000\nLichenification: 0.000\nPedunculated: 0.000\nXerosis: 0.000\nCyst: 0.000\nAcuminate: 0.000\nWarty/Papillomatous: 0.000\nInduration: 0.000\nAtrophy: 0.000\nComedo: 0.000\nTelangiectasia: 0.000\nPoikiloderma: 0.000\nPurpura/Petechiae: 0.000\nSalmon: 0.000\nWheal: 0.000\nBurrow: 0.000\nUmbilicated: 0.000\nMacule: 0.000\nAbscess: 0.000\nFlat topped: 0.000\nPigmented: 0.000\nTranslucent: 0.000\n\nDetected (≥0.30):\nDo not consider this image: 0.881\nBrown(Hyperpigmentation): 0.857\nPlaque: 0.454\n",
     "output_type": "stream"
    }
   ],
   "execution_count": 10
  },
  {
   "cell_type": "code",
   "source": "",
   "metadata": {
    "trusted": true
   },
   "outputs": [],
   "execution_count": null
  }
 ]
}
